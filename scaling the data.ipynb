{
 "cells": [
  {
   "cell_type": "code",
   "execution_count": 18,
   "id": "e5d131dc",
   "metadata": {},
   "outputs": [],
   "source": [
    "\n",
    "import pandas as pd\n",
    "import seaborn as sns\n",
    "from seaborn import load_dataset\n",
    "from sklearn.preprocessing import StandardScaler\n",
    "from sklearn.preprocessing import MinMaxScaler\n",
    "from sklearn.model_selection import train_test_split"
   ]
  },
  {
   "cell_type": "code",
   "execution_count": 12,
   "id": "90023b37",
   "metadata": {},
   "outputs": [],
   "source": [
    "df=sns.load_dataset(\"titanic\")"
   ]
  },
  {
   "cell_type": "code",
   "execution_count": 13,
   "id": "3a427802",
   "metadata": {},
   "outputs": [
    {
     "data": {
      "text/html": [
       "<div>\n",
       "<style scoped>\n",
       "    .dataframe tbody tr th:only-of-type {\n",
       "        vertical-align: middle;\n",
       "    }\n",
       "\n",
       "    .dataframe tbody tr th {\n",
       "        vertical-align: top;\n",
       "    }\n",
       "\n",
       "    .dataframe thead th {\n",
       "        text-align: right;\n",
       "    }\n",
       "</style>\n",
       "<table border=\"1\" class=\"dataframe\">\n",
       "  <thead>\n",
       "    <tr style=\"text-align: right;\">\n",
       "      <th></th>\n",
       "      <th>survived</th>\n",
       "      <th>pclass</th>\n",
       "      <th>sex</th>\n",
       "      <th>age</th>\n",
       "      <th>sibsp</th>\n",
       "      <th>parch</th>\n",
       "      <th>fare</th>\n",
       "      <th>embarked</th>\n",
       "      <th>class</th>\n",
       "      <th>who</th>\n",
       "      <th>adult_male</th>\n",
       "      <th>deck</th>\n",
       "      <th>embark_town</th>\n",
       "      <th>alive</th>\n",
       "      <th>alone</th>\n",
       "    </tr>\n",
       "  </thead>\n",
       "  <tbody>\n",
       "    <tr>\n",
       "      <th>0</th>\n",
       "      <td>0</td>\n",
       "      <td>3</td>\n",
       "      <td>male</td>\n",
       "      <td>22.0</td>\n",
       "      <td>1</td>\n",
       "      <td>0</td>\n",
       "      <td>7.2500</td>\n",
       "      <td>S</td>\n",
       "      <td>Third</td>\n",
       "      <td>man</td>\n",
       "      <td>True</td>\n",
       "      <td>NaN</td>\n",
       "      <td>Southampton</td>\n",
       "      <td>no</td>\n",
       "      <td>False</td>\n",
       "    </tr>\n",
       "    <tr>\n",
       "      <th>1</th>\n",
       "      <td>1</td>\n",
       "      <td>1</td>\n",
       "      <td>female</td>\n",
       "      <td>38.0</td>\n",
       "      <td>1</td>\n",
       "      <td>0</td>\n",
       "      <td>71.2833</td>\n",
       "      <td>C</td>\n",
       "      <td>First</td>\n",
       "      <td>woman</td>\n",
       "      <td>False</td>\n",
       "      <td>C</td>\n",
       "      <td>Cherbourg</td>\n",
       "      <td>yes</td>\n",
       "      <td>False</td>\n",
       "    </tr>\n",
       "    <tr>\n",
       "      <th>2</th>\n",
       "      <td>1</td>\n",
       "      <td>3</td>\n",
       "      <td>female</td>\n",
       "      <td>26.0</td>\n",
       "      <td>0</td>\n",
       "      <td>0</td>\n",
       "      <td>7.9250</td>\n",
       "      <td>S</td>\n",
       "      <td>Third</td>\n",
       "      <td>woman</td>\n",
       "      <td>False</td>\n",
       "      <td>NaN</td>\n",
       "      <td>Southampton</td>\n",
       "      <td>yes</td>\n",
       "      <td>True</td>\n",
       "    </tr>\n",
       "    <tr>\n",
       "      <th>3</th>\n",
       "      <td>1</td>\n",
       "      <td>1</td>\n",
       "      <td>female</td>\n",
       "      <td>35.0</td>\n",
       "      <td>1</td>\n",
       "      <td>0</td>\n",
       "      <td>53.1000</td>\n",
       "      <td>S</td>\n",
       "      <td>First</td>\n",
       "      <td>woman</td>\n",
       "      <td>False</td>\n",
       "      <td>C</td>\n",
       "      <td>Southampton</td>\n",
       "      <td>yes</td>\n",
       "      <td>False</td>\n",
       "    </tr>\n",
       "    <tr>\n",
       "      <th>4</th>\n",
       "      <td>0</td>\n",
       "      <td>3</td>\n",
       "      <td>male</td>\n",
       "      <td>35.0</td>\n",
       "      <td>0</td>\n",
       "      <td>0</td>\n",
       "      <td>8.0500</td>\n",
       "      <td>S</td>\n",
       "      <td>Third</td>\n",
       "      <td>man</td>\n",
       "      <td>True</td>\n",
       "      <td>NaN</td>\n",
       "      <td>Southampton</td>\n",
       "      <td>no</td>\n",
       "      <td>True</td>\n",
       "    </tr>\n",
       "  </tbody>\n",
       "</table>\n",
       "</div>"
      ],
      "text/plain": [
       "   survived  pclass     sex   age  sibsp  parch     fare embarked  class  \\\n",
       "0         0       3    male  22.0      1      0   7.2500        S  Third   \n",
       "1         1       1  female  38.0      1      0  71.2833        C  First   \n",
       "2         1       3  female  26.0      0      0   7.9250        S  Third   \n",
       "3         1       1  female  35.0      1      0  53.1000        S  First   \n",
       "4         0       3    male  35.0      0      0   8.0500        S  Third   \n",
       "\n",
       "     who  adult_male deck  embark_town alive  alone  \n",
       "0    man        True  NaN  Southampton    no  False  \n",
       "1  woman       False    C    Cherbourg   yes  False  \n",
       "2  woman       False  NaN  Southampton   yes   True  \n",
       "3  woman       False    C  Southampton   yes  False  \n",
       "4    man        True  NaN  Southampton    no   True  "
      ]
     },
     "execution_count": 13,
     "metadata": {},
     "output_type": "execute_result"
    }
   ],
   "source": [
    "df.head()"
   ]
  },
  {
   "cell_type": "code",
   "execution_count": 14,
   "id": "93424f4e",
   "metadata": {},
   "outputs": [
    {
     "data": {
      "text/html": [
       "<div>\n",
       "<style scoped>\n",
       "    .dataframe tbody tr th:only-of-type {\n",
       "        vertical-align: middle;\n",
       "    }\n",
       "\n",
       "    .dataframe tbody tr th {\n",
       "        vertical-align: top;\n",
       "    }\n",
       "\n",
       "    .dataframe thead th {\n",
       "        text-align: right;\n",
       "    }\n",
       "</style>\n",
       "<table border=\"1\" class=\"dataframe\">\n",
       "  <thead>\n",
       "    <tr style=\"text-align: right;\">\n",
       "      <th></th>\n",
       "      <th>survived</th>\n",
       "      <th>pclass</th>\n",
       "      <th>age</th>\n",
       "      <th>parch</th>\n",
       "    </tr>\n",
       "  </thead>\n",
       "  <tbody>\n",
       "    <tr>\n",
       "      <th>0</th>\n",
       "      <td>0</td>\n",
       "      <td>3</td>\n",
       "      <td>22.0</td>\n",
       "      <td>0</td>\n",
       "    </tr>\n",
       "    <tr>\n",
       "      <th>1</th>\n",
       "      <td>1</td>\n",
       "      <td>1</td>\n",
       "      <td>38.0</td>\n",
       "      <td>0</td>\n",
       "    </tr>\n",
       "    <tr>\n",
       "      <th>2</th>\n",
       "      <td>1</td>\n",
       "      <td>3</td>\n",
       "      <td>26.0</td>\n",
       "      <td>0</td>\n",
       "    </tr>\n",
       "    <tr>\n",
       "      <th>3</th>\n",
       "      <td>1</td>\n",
       "      <td>1</td>\n",
       "      <td>35.0</td>\n",
       "      <td>0</td>\n",
       "    </tr>\n",
       "    <tr>\n",
       "      <th>4</th>\n",
       "      <td>0</td>\n",
       "      <td>3</td>\n",
       "      <td>35.0</td>\n",
       "      <td>0</td>\n",
       "    </tr>\n",
       "  </tbody>\n",
       "</table>\n",
       "</div>"
      ],
      "text/plain": [
       "   survived  pclass   age  parch\n",
       "0         0       3  22.0      0\n",
       "1         1       1  38.0      0\n",
       "2         1       3  26.0      0\n",
       "3         1       1  35.0      0\n",
       "4         0       3  35.0      0"
      ]
     },
     "execution_count": 14,
     "metadata": {},
     "output_type": "execute_result"
    }
   ],
   "source": [
    "df2=df[['survived','pclass','age','parch']]\n",
    "df2.head()"
   ]
  },
  {
   "cell_type": "code",
   "execution_count": 15,
   "id": "5570d299",
   "metadata": {},
   "outputs": [],
   "source": [
    "df3=df2.fillna(df2.mean())"
   ]
  },
  {
   "cell_type": "code",
   "execution_count": 16,
   "id": "45650554",
   "metadata": {},
   "outputs": [],
   "source": [
    "x=df3.drop(columns='survived',axis=1)\n",
    "y=df3['survived']"
   ]
  },
  {
   "cell_type": "code",
   "execution_count": 17,
   "id": "f83d324c",
   "metadata": {},
   "outputs": [
    {
     "name": "stdout",
     "output_type": "stream",
     "text": [
      "(891, 3)\n",
      "(891,)\n"
     ]
    }
   ],
   "source": [
    "print(x.shape)\n",
    "print(y.shape)"
   ]
  },
  {
   "cell_type": "code",
   "execution_count": 47,
   "id": "52ce89e8",
   "metadata": {},
   "outputs": [],
   "source": [
    "x_train,x_test ,y_train,y_test=train_test_split(x,y,test_size=0.2,random_state=51)"
   ]
  },
  {
   "cell_type": "code",
   "execution_count": 48,
   "id": "2acd72db",
   "metadata": {},
   "outputs": [
    {
     "name": "stdout",
     "output_type": "stream",
     "text": [
      "(712, 3)\n",
      "(712,)\n",
      "(179, 3)\n",
      "(179,)\n"
     ]
    }
   ],
   "source": [
    "print(x_train.shape)\n",
    "print(y_train.shape)\n",
    "print(x_test.shape)\n",
    "print(y_test.shape)"
   ]
  },
  {
   "cell_type": "code",
   "execution_count": 49,
   "id": "c7b82fa2",
   "metadata": {},
   "outputs": [
    {
     "data": {
      "text/plain": [
       "StandardScaler()"
      ]
     },
     "execution_count": 49,
     "metadata": {},
     "output_type": "execute_result"
    }
   ],
   "source": [
    "sc=StandardScaler()\n",
    "sc.fit(x_train)"
   ]
  },
  {
   "cell_type": "code",
   "execution_count": 50,
   "id": "b841231b",
   "metadata": {},
   "outputs": [
    {
     "data": {
      "text/html": [
       "<div>\n",
       "<style scoped>\n",
       "    .dataframe tbody tr th:only-of-type {\n",
       "        vertical-align: middle;\n",
       "    }\n",
       "\n",
       "    .dataframe tbody tr th {\n",
       "        vertical-align: top;\n",
       "    }\n",
       "\n",
       "    .dataframe thead th {\n",
       "        text-align: right;\n",
       "    }\n",
       "</style>\n",
       "<table border=\"1\" class=\"dataframe\">\n",
       "  <thead>\n",
       "    <tr style=\"text-align: right;\">\n",
       "      <th></th>\n",
       "      <th>pclass</th>\n",
       "      <th>age</th>\n",
       "      <th>parch</th>\n",
       "    </tr>\n",
       "  </thead>\n",
       "  <tbody>\n",
       "    <tr>\n",
       "      <th>count</th>\n",
       "      <td>712.000000</td>\n",
       "      <td>712.000000</td>\n",
       "      <td>712.000000</td>\n",
       "    </tr>\n",
       "    <tr>\n",
       "      <th>mean</th>\n",
       "      <td>2.306180</td>\n",
       "      <td>29.554091</td>\n",
       "      <td>0.391854</td>\n",
       "    </tr>\n",
       "    <tr>\n",
       "      <th>std</th>\n",
       "      <td>0.844651</td>\n",
       "      <td>13.000763</td>\n",
       "      <td>0.797035</td>\n",
       "    </tr>\n",
       "    <tr>\n",
       "      <th>min</th>\n",
       "      <td>1.000000</td>\n",
       "      <td>0.420000</td>\n",
       "      <td>0.000000</td>\n",
       "    </tr>\n",
       "    <tr>\n",
       "      <th>25%</th>\n",
       "      <td>1.750000</td>\n",
       "      <td>22.000000</td>\n",
       "      <td>0.000000</td>\n",
       "    </tr>\n",
       "    <tr>\n",
       "      <th>50%</th>\n",
       "      <td>3.000000</td>\n",
       "      <td>29.699118</td>\n",
       "      <td>0.000000</td>\n",
       "    </tr>\n",
       "    <tr>\n",
       "      <th>75%</th>\n",
       "      <td>3.000000</td>\n",
       "      <td>35.000000</td>\n",
       "      <td>0.000000</td>\n",
       "    </tr>\n",
       "    <tr>\n",
       "      <th>max</th>\n",
       "      <td>3.000000</td>\n",
       "      <td>71.000000</td>\n",
       "      <td>5.000000</td>\n",
       "    </tr>\n",
       "  </tbody>\n",
       "</table>\n",
       "</div>"
      ],
      "text/plain": [
       "           pclass         age       parch\n",
       "count  712.000000  712.000000  712.000000\n",
       "mean     2.306180   29.554091    0.391854\n",
       "std      0.844651   13.000763    0.797035\n",
       "min      1.000000    0.420000    0.000000\n",
       "25%      1.750000   22.000000    0.000000\n",
       "50%      3.000000   29.699118    0.000000\n",
       "75%      3.000000   35.000000    0.000000\n",
       "max      3.000000   71.000000    5.000000"
      ]
     },
     "execution_count": 50,
     "metadata": {},
     "output_type": "execute_result"
    }
   ],
   "source": [
    "x_train.describe()"
   ]
  },
  {
   "cell_type": "code",
   "execution_count": 51,
   "id": "08bb310f",
   "metadata": {},
   "outputs": [],
   "source": [
    "x_train_sc=sc.transform(x_train)\n",
    "x_test_sc=sc.transform(x_test)"
   ]
  },
  {
   "cell_type": "code",
   "execution_count": 52,
   "id": "a69417db",
   "metadata": {},
   "outputs": [
    {
     "data": {
      "text/plain": [
       "array([[ 0.8220055 , -0.42751304, -0.49198545],\n",
       "       [ 0.8220055 ,  1.997125  , -0.49198545],\n",
       "       [ 0.8220055 , -1.42815732, -0.49198545],\n",
       "       ...,\n",
       "       [ 0.8220055 ,  1.41983023,  3.27461284],\n",
       "       [ 0.8220055 ,  0.01116307,  0.76354731],\n",
       "       [ 0.8220055 , -0.08113618, -0.49198545]])"
      ]
     },
     "execution_count": 52,
     "metadata": {},
     "output_type": "execute_result"
    }
   ],
   "source": [
    "x_train_sc"
   ]
  },
  {
   "cell_type": "code",
   "execution_count": 53,
   "id": "111919e7",
   "metadata": {},
   "outputs": [],
   "source": [
    "x_train_sc=pd.DataFrame(x_train_sc,columns=['pclass','age','parch'])\n",
    "x_test_sc=pd.DataFrame(x_test_sc,columns=['pclass','age','parch'])"
   ]
  },
  {
   "cell_type": "code",
   "execution_count": 54,
   "id": "9018bfbf",
   "metadata": {},
   "outputs": [
    {
     "data": {
      "text/html": [
       "<div>\n",
       "<style scoped>\n",
       "    .dataframe tbody tr th:only-of-type {\n",
       "        vertical-align: middle;\n",
       "    }\n",
       "\n",
       "    .dataframe tbody tr th {\n",
       "        vertical-align: top;\n",
       "    }\n",
       "\n",
       "    .dataframe thead th {\n",
       "        text-align: right;\n",
       "    }\n",
       "</style>\n",
       "<table border=\"1\" class=\"dataframe\">\n",
       "  <thead>\n",
       "    <tr style=\"text-align: right;\">\n",
       "      <th></th>\n",
       "      <th>pclass</th>\n",
       "      <th>age</th>\n",
       "      <th>parch</th>\n",
       "    </tr>\n",
       "  </thead>\n",
       "  <tbody>\n",
       "    <tr>\n",
       "      <th>count</th>\n",
       "      <td>712.00</td>\n",
       "      <td>712.00</td>\n",
       "      <td>712.00</td>\n",
       "    </tr>\n",
       "    <tr>\n",
       "      <th>mean</th>\n",
       "      <td>0.00</td>\n",
       "      <td>0.00</td>\n",
       "      <td>0.00</td>\n",
       "    </tr>\n",
       "    <tr>\n",
       "      <th>std</th>\n",
       "      <td>1.00</td>\n",
       "      <td>1.00</td>\n",
       "      <td>1.00</td>\n",
       "    </tr>\n",
       "    <tr>\n",
       "      <th>min</th>\n",
       "      <td>-1.55</td>\n",
       "      <td>-2.24</td>\n",
       "      <td>-0.49</td>\n",
       "    </tr>\n",
       "    <tr>\n",
       "      <th>25%</th>\n",
       "      <td>-0.66</td>\n",
       "      <td>-0.58</td>\n",
       "      <td>-0.49</td>\n",
       "    </tr>\n",
       "    <tr>\n",
       "      <th>50%</th>\n",
       "      <td>0.82</td>\n",
       "      <td>0.01</td>\n",
       "      <td>-0.49</td>\n",
       "    </tr>\n",
       "    <tr>\n",
       "      <th>75%</th>\n",
       "      <td>0.82</td>\n",
       "      <td>0.42</td>\n",
       "      <td>-0.49</td>\n",
       "    </tr>\n",
       "    <tr>\n",
       "      <th>max</th>\n",
       "      <td>0.82</td>\n",
       "      <td>3.19</td>\n",
       "      <td>5.79</td>\n",
       "    </tr>\n",
       "  </tbody>\n",
       "</table>\n",
       "</div>"
      ],
      "text/plain": [
       "       pclass     age   parch\n",
       "count  712.00  712.00  712.00\n",
       "mean     0.00    0.00    0.00\n",
       "std      1.00    1.00    1.00\n",
       "min     -1.55   -2.24   -0.49\n",
       "25%     -0.66   -0.58   -0.49\n",
       "50%      0.82    0.01   -0.49\n",
       "75%      0.82    0.42   -0.49\n",
       "max      0.82    3.19    5.79"
      ]
     },
     "execution_count": 54,
     "metadata": {},
     "output_type": "execute_result"
    }
   ],
   "source": [
    "x_train_sc.describe().round(2)"
   ]
  },
  {
   "cell_type": "code",
   "execution_count": 55,
   "id": "e213cb18",
   "metadata": {},
   "outputs": [
    {
     "data": {
      "text/plain": [
       "MinMaxScaler()"
      ]
     },
     "execution_count": 55,
     "metadata": {},
     "output_type": "execute_result"
    }
   ],
   "source": [
    "mmc=MinMaxScaler()\n",
    "mmc.fit(x_train)"
   ]
  },
  {
   "cell_type": "code",
   "execution_count": 58,
   "id": "7770cff7",
   "metadata": {},
   "outputs": [],
   "source": [
    "x_train_mms=mmc.transform(x_train)\n",
    "x_test_mms=mmc.transform(x_test)"
   ]
  },
  {
   "cell_type": "code",
   "execution_count": 60,
   "id": "aeb67cd2",
   "metadata": {},
   "outputs": [
    {
     "data": {
      "text/plain": [
       "array([[0.        , 0.56078209, 0.        ],\n",
       "       [1.        , 0.44743553, 0.        ],\n",
       "       [1.        , 0.41909889, 0.        ],\n",
       "       [0.        , 0.4148359 , 0.        ],\n",
       "       [0.5       , 0.47577217, 0.2       ],\n",
       "       [1.        , 0.44743553, 0.        ],\n",
       "       [0.        , 0.65996033, 0.        ],\n",
       "       [1.        , 0.22074242, 0.        ],\n",
       "       [0.5       , 0.9291584 , 0.        ],\n",
       "       [0.        , 0.2065741 , 0.2       ],\n",
       "       [0.5       , 0.43326721, 0.        ],\n",
       "       [0.5       , 0.39076226, 0.        ],\n",
       "       [0.        , 0.63162369, 0.        ],\n",
       "       [1.        , 0.31992066, 0.        ],\n",
       "       [1.        , 0.57495041, 1.        ],\n",
       "       [0.5       , 0.3482573 , 0.        ],\n",
       "       [0.5       , 0.50410881, 0.4       ],\n",
       "       [1.        , 0.4148359 , 0.        ],\n",
       "       [1.        , 0.4148359 , 0.        ],\n",
       "       [0.5       , 0.26324738, 0.        ],\n",
       "       [1.        , 0.4148359 , 0.        ],\n",
       "       [0.5       , 0.24907906, 0.        ],\n",
       "       [1.        , 0.29158402, 0.        ],\n",
       "       [0.        , 0.43326721, 0.        ],\n",
       "       [1.        , 0.23491074, 0.        ],\n",
       "       [0.        , 0.33408898, 0.        ],\n",
       "       [1.        , 0.57495041, 0.        ],\n",
       "       [0.        , 0.4148359 , 0.        ],\n",
       "       [1.        , 0.48994049, 0.2       ],\n",
       "       [0.        , 0.22074242, 0.2       ],\n",
       "       [1.        , 0.4148359 , 0.        ],\n",
       "       [0.        , 0.81581184, 0.4       ],\n",
       "       [0.        , 0.65996033, 0.        ],\n",
       "       [1.        , 0.43326721, 0.        ],\n",
       "       [0.5       , 0.47577217, 0.        ],\n",
       "       [0.5       , 0.4148359 , 0.        ],\n",
       "       [0.5       , 0.44743553, 0.        ],\n",
       "       [1.        , 0.41909889, 0.        ],\n",
       "       [0.5       , 0.30575234, 0.2       ],\n",
       "       [1.        , 1.04250496, 0.        ],\n",
       "       [0.5       , 0.39076226, 0.        ],\n",
       "       [1.        , 0.29158402, 0.        ],\n",
       "       [1.        , 0.56786625, 0.        ],\n",
       "       [0.5       , 0.0648909 , 0.4       ],\n",
       "       [1.        , 0.05072258, 0.4       ],\n",
       "       [0.5       , 0.50410881, 0.        ],\n",
       "       [0.5       , 0.40493058, 0.        ],\n",
       "       [1.        , 0.22074242, 0.        ],\n",
       "       [0.        , 0.39076226, 0.        ],\n",
       "       [1.        , 0.3482573 , 0.        ],\n",
       "       [1.        , 0.4148359 , 0.        ],\n",
       "       [0.        , 0.50410881, 0.        ],\n",
       "       [1.        , 0.71663361, 0.        ],\n",
       "       [1.        , 0.4148359 , 0.        ],\n",
       "       [0.5       , 0.33408898, 0.        ],\n",
       "       [0.        , 0.70246529, 0.        ],\n",
       "       [0.        , 0.36242562, 0.        ],\n",
       "       [1.        , 0.58911873, 0.        ],\n",
       "       [1.        , 0.19240578, 0.        ],\n",
       "       [1.        , 0.29158402, 0.        ],\n",
       "       [1.        , 0.63162369, 0.        ],\n",
       "       [1.        , 0.63162369, 0.        ],\n",
       "       [0.        , 0.58911873, 0.        ],\n",
       "       [1.        , 0.40493058, 0.        ],\n",
       "       [1.        , 0.39076226, 0.        ],\n",
       "       [1.        , 0.22074242, 0.        ],\n",
       "       [0.5       , 0.31992066, 0.        ],\n",
       "       [1.        , 0.19240578, 0.2       ],\n",
       "       [0.5       , 0.58911873, 0.        ],\n",
       "       [0.5       , 0.37659394, 0.        ],\n",
       "       [0.        , 0.44743553, 0.        ],\n",
       "       [1.        , 0.24907906, 0.        ],\n",
       "       [0.5       , 0.03655426, 0.2       ],\n",
       "       [1.        , 0.4148359 , 0.        ],\n",
       "       [0.        , 0.78747521, 0.        ],\n",
       "       [0.5       , 0.02238595, 0.2       ],\n",
       "       [0.5       , 0.39076226, 0.        ],\n",
       "       [0.        , 0.53244545, 0.        ],\n",
       "       [1.        , 0.4148359 , 0.        ],\n",
       "       [1.        , 0.4148359 , 0.        ],\n",
       "       [0.5       , 0.24907906, 0.        ],\n",
       "       [1.        , 0.39076226, 0.        ],\n",
       "       [0.5       , 0.41909889, 0.        ],\n",
       "       [0.        , 0.41909889, 0.        ],\n",
       "       [0.5       , 0.64579201, 0.        ],\n",
       "       [1.        , 0.12156418, 0.2       ],\n",
       "       [0.        , 0.56078209, 0.        ],\n",
       "       [1.        , 0.4148359 , 0.        ],\n",
       "       [1.        , 0.02238595, 0.4       ],\n",
       "       [1.        , 0.4148359 , 0.        ],\n",
       "       [1.        , 0.60328705, 0.        ],\n",
       "       [0.5       , 0.75913857, 0.        ],\n",
       "       [1.        , 0.4148359 , 0.        ],\n",
       "       [0.5       , 0.3482573 , 0.2       ],\n",
       "       [0.        , 0.43326721, 0.        ],\n",
       "       [1.        , 0.4148359 , 0.        ],\n",
       "       [0.5       , 0.40493058, 0.        ],\n",
       "       [1.        , 0.22074242, 0.2       ],\n",
       "       [0.        , 0.40493058, 0.        ],\n",
       "       [1.        , 0.58911873, 0.2       ],\n",
       "       [0.5       , 0.87248512, 0.        ],\n",
       "       [1.        , 0.4148359 , 0.2       ],\n",
       "       [1.        , 0.46160385, 0.        ],\n",
       "       [0.5       , 0.37659394, 0.        ],\n",
       "       [1.        , 0.4148359 , 0.        ],\n",
       "       [1.        , 0.60328705, 1.2       ],\n",
       "       [1.        , 0.43326721, 0.        ],\n",
       "       [1.        , 0.3482573 , 0.        ],\n",
       "       [1.        , 0.50410881, 0.2       ],\n",
       "       [1.        , 0.44743553, 0.        ],\n",
       "       [1.        , 0.4148359 , 0.        ],\n",
       "       [0.5       , 0.3482573 , 0.4       ],\n",
       "       [0.        , 1.12751488, 0.        ],\n",
       "       [1.        , 0.48994049, 0.        ],\n",
       "       [0.5       , 0.26324738, 0.        ],\n",
       "       [1.        , 0.44743553, 0.        ],\n",
       "       [0.5       , 0.23491074, 0.        ],\n",
       "       [0.        , 0.90082176, 0.8       ],\n",
       "       [1.        , 0.26324738, 0.        ],\n",
       "       [1.        , 0.19948994, 0.        ],\n",
       "       [1.        , 0.58911873, 0.        ],\n",
       "       [0.        , 0.87248512, 0.        ],\n",
       "       [1.        , 0.4148359 , 0.        ],\n",
       "       [1.        , 0.26324738, 0.        ],\n",
       "       [0.5       , 0.36242562, 0.2       ],\n",
       "       [1.        , 0.22074242, 0.        ],\n",
       "       [1.        , 0.39076226, 0.        ],\n",
       "       [0.        , 0.61745537, 0.2       ],\n",
       "       [1.        , 0.4148359 , 0.        ],\n",
       "       [1.        , 0.4148359 , 0.        ],\n",
       "       [0.5       , 0.41909889, 0.        ],\n",
       "       [1.        , 0.36242562, 0.        ],\n",
       "       [1.        , 0.50410881, 0.        ],\n",
       "       [0.        , 0.84414848, 0.        ],\n",
       "       [1.        , 0.24907906, 0.        ],\n",
       "       [1.        , 0.4148359 , 0.        ],\n",
       "       [0.5       , 0.4148359 , 0.        ],\n",
       "       [1.        , 0.22074242, 0.2       ],\n",
       "       [0.5       , 0.00580901, 0.4       ],\n",
       "       [1.        , 0.4148359 , 0.        ],\n",
       "       [0.        , 0.30575234, 0.        ],\n",
       "       [0.5       , 0.40493058, 0.        ],\n",
       "       [0.        , 0.63870785, 0.        ],\n",
       "       [0.5       , 0.47577217, 0.        ],\n",
       "       [1.        , 0.23491074, 0.2       ],\n",
       "       [1.        , 0.46160385, 0.2       ],\n",
       "       [1.        , 0.37659394, 0.        ],\n",
       "       [0.5       , 0.48994049, 0.        ],\n",
       "       [1.        , 0.4148359 , 0.        ],\n",
       "       [1.        , 0.4148359 , 0.        ],\n",
       "       [1.        , 0.4148359 , 0.        ],\n",
       "       [0.        , 0.75913857, 0.2       ],\n",
       "       [1.        , 0.12156418, 0.4       ],\n",
       "       [0.        , 0.29158402, 0.4       ],\n",
       "       [1.        , 0.39076226, 0.2       ],\n",
       "       [1.        , 0.4148359 , 0.        ],\n",
       "       [1.        , 0.22074242, 0.        ],\n",
       "       [0.5       , 0.29158402, 0.        ],\n",
       "       [1.        , 0.4148359 , 0.2       ],\n",
       "       [1.        , 0.12156418, 0.4       ],\n",
       "       [1.        , 0.51827713, 0.        ],\n",
       "       [0.        , 0.02238595, 0.4       ],\n",
       "       [1.        , 0.26324738, 0.        ],\n",
       "       [0.5       , 0.61745537, 0.        ],\n",
       "       [0.        , 0.26324738, 0.        ],\n",
       "       [1.        , 0.39076226, 0.        ],\n",
       "       [1.        , 0.40493058, 0.        ],\n",
       "       [0.5       , 0.47577217, 0.        ],\n",
       "       [0.5       , 0.50410881, 0.        ],\n",
       "       [1.        , 0.29158402, 0.        ],\n",
       "       [1.        , 0.4148359 , 0.        ],\n",
       "       [0.        , 0.4148359 , 0.        ],\n",
       "       [0.        , 0.77330689, 0.        ],\n",
       "       [1.        , 0.43326721, 0.        ],\n",
       "       [1.        , 0.4148359 , 0.4       ],\n",
       "       [1.        , 0.36242562, 0.        ],\n",
       "       [0.5       , 0.33408898, 0.        ],\n",
       "       [0.        , 0.43326721, 0.        ],\n",
       "       [0.        , 0.51827713, 0.        ]])"
      ]
     },
     "execution_count": 60,
     "metadata": {},
     "output_type": "execute_result"
    }
   ],
   "source": [
    "x_test_mms"
   ]
  },
  {
   "cell_type": "code",
   "execution_count": 61,
   "id": "705a9f47",
   "metadata": {},
   "outputs": [],
   "source": [
    "x_train_mms=pd.DataFrame(x_train_mms,columns=['pclass','age','parch'])\n",
    "x_test_mms=pd.DataFrame(x_test_mms,columns=['pclass','age','parch'])"
   ]
  },
  {
   "cell_type": "code",
   "execution_count": 63,
   "id": "37268651",
   "metadata": {},
   "outputs": [
    {
     "data": {
      "text/html": [
       "<div>\n",
       "<style scoped>\n",
       "    .dataframe tbody tr th:only-of-type {\n",
       "        vertical-align: middle;\n",
       "    }\n",
       "\n",
       "    .dataframe tbody tr th {\n",
       "        vertical-align: top;\n",
       "    }\n",
       "\n",
       "    .dataframe thead th {\n",
       "        text-align: right;\n",
       "    }\n",
       "</style>\n",
       "<table border=\"1\" class=\"dataframe\">\n",
       "  <thead>\n",
       "    <tr style=\"text-align: right;\">\n",
       "      <th></th>\n",
       "      <th>pclass</th>\n",
       "      <th>age</th>\n",
       "      <th>parch</th>\n",
       "    </tr>\n",
       "  </thead>\n",
       "  <tbody>\n",
       "    <tr>\n",
       "      <th>count</th>\n",
       "      <td>179.00</td>\n",
       "      <td>179.00</td>\n",
       "      <td>179.00</td>\n",
       "    </tr>\n",
       "    <tr>\n",
       "      <th>mean</th>\n",
       "      <td>0.66</td>\n",
       "      <td>0.42</td>\n",
       "      <td>0.07</td>\n",
       "    </tr>\n",
       "    <tr>\n",
       "      <th>std</th>\n",
       "      <td>0.40</td>\n",
       "      <td>0.18</td>\n",
       "      <td>0.17</td>\n",
       "    </tr>\n",
       "    <tr>\n",
       "      <th>min</th>\n",
       "      <td>0.00</td>\n",
       "      <td>0.01</td>\n",
       "      <td>0.00</td>\n",
       "    </tr>\n",
       "    <tr>\n",
       "      <th>25%</th>\n",
       "      <td>0.50</td>\n",
       "      <td>0.33</td>\n",
       "      <td>0.00</td>\n",
       "    </tr>\n",
       "    <tr>\n",
       "      <th>50%</th>\n",
       "      <td>1.00</td>\n",
       "      <td>0.41</td>\n",
       "      <td>0.00</td>\n",
       "    </tr>\n",
       "    <tr>\n",
       "      <th>75%</th>\n",
       "      <td>1.00</td>\n",
       "      <td>0.49</td>\n",
       "      <td>0.00</td>\n",
       "    </tr>\n",
       "    <tr>\n",
       "      <th>max</th>\n",
       "      <td>1.00</td>\n",
       "      <td>1.13</td>\n",
       "      <td>1.20</td>\n",
       "    </tr>\n",
       "  </tbody>\n",
       "</table>\n",
       "</div>"
      ],
      "text/plain": [
       "       pclass     age   parch\n",
       "count  179.00  179.00  179.00\n",
       "mean     0.66    0.42    0.07\n",
       "std      0.40    0.18    0.17\n",
       "min      0.00    0.01    0.00\n",
       "25%      0.50    0.33    0.00\n",
       "50%      1.00    0.41    0.00\n",
       "75%      1.00    0.49    0.00\n",
       "max      1.00    1.13    1.20"
      ]
     },
     "execution_count": 63,
     "metadata": {},
     "output_type": "execute_result"
    }
   ],
   "source": [
    "x_test_mms.describe().round(2)"
   ]
  },
  {
   "cell_type": "code",
   "execution_count": 64,
   "id": "5a75052e",
   "metadata": {},
   "outputs": [
    {
     "data": {
      "text/plain": [
       "<seaborn.axisgrid.PairGrid at 0xaabc43c340>"
      ]
     },
     "execution_count": 64,
     "metadata": {},
     "output_type": "execute_result"
    },
    {
     "data": {
      "image/png": "[encoded data removed]",
      "text/plain": [
       "<Figure size 540x540 with 12 Axes>"
      ]
     },
     "metadata": {
      "needs_background": "light"
     },
     "output_type": "display_data"
    }
   ],
   "source": [
    "sns.pairplot(x_train)"
   ]
  },
  {
   "cell_type": "code",
   "execution_count": 65,
   "id": "ff130650",
   "metadata": {},
   "outputs": [
    {
     "data": {
      "text/plain": [
       "<seaborn.axisgrid.PairGrid at 0xaabe99d390>"
      ]
     },
     "execution_count": 65,
     "metadata": {},
     "output_type": "execute_result"
    },
    {
     "data": {
      "image/png": "[encoded data removed]",
      "text/plain": [
       "<Figure size 540x540 with 12 Axes>"
      ]
     },
     "metadata": {
      "needs_background": "light"
     },
     "output_type": "display_data"
    }
   ],
   "source": [
    "sns.pairplot(x_test_sc)"
   ]
  },
  {
   "cell_type": "code",
   "execution_count": 66,
   "id": "0892c9d7",
   "metadata": {},
   "outputs": [
    {
     "data": {
      "text/plain": [
       "<seaborn.axisgrid.PairGrid at 0xaabefde6e0>"
      ]
     },
     "execution_count": 66,
     "metadata": {},
     "output_type": "execute_result"
    },
    {
     "data": {
      "image/png": "[encoded data removed]",
      "text/plain": [
       "<Figure size 540x540 with 12 Axes>"
      ]
     },
     "metadata": {
      "needs_background": "light"
     },
     "output_type": "display_data"
    }
   ],
   "source": [
    "sns.pairplot(x_test_mms)"
   ]
  },
  {
   "cell_type": "code",
   "execution_count": null,
   "id": "d542f5fc",
   "metadata": {},
   "outputs": [],
   "source": []
  }
 ],
 "metadata": {
  "kernelspec": {
   "display_name": "Python 3 (ipykernel)",
   "language": "python",
   "name": "python3"
  },
  "language_info": {
   "codemirror_mode": {
    "name": "ipython",
    "version": 3
   },
   "file_extension": ".py",
   "mimetype": "text/x-python",
   "name": "python",
   "nbconvert_exporter": "python",
   "pygments_lexer": "ipython3",
   "version": "3.10.4"
  }
 },
 "nbformat": 4,
 "nbformat_minor": 5
}
